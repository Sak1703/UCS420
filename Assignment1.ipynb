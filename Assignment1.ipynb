{
  "nbformat": 4,
  "nbformat_minor": 0,
  "metadata": {
    "colab": {
      "provenance": []
    },
    "kernelspec": {
      "name": "python3",
      "display_name": "Python 3"
    },
    "language_info": {
      "name": "python"
    }
  },
  "cells": [
    {
      "cell_type": "code",
      "execution_count": 3,
      "metadata": {
        "colab": {
          "base_uri": "https://localhost:8080/"
        },
        "id": "q__XEsNhUhe6",
        "outputId": "6f13bd30-2c4e-4817-f1fb-7b3c1f8bf858"
      },
      "outputs": [
        {
          "output_type": "stream",
          "name": "stdout",
          "text": [
            "saksham dua\n",
            "saksham dua\n",
            "saksham dua\n"
          ]
        }
      ],
      "source": [
        "for i in range(1,4,1):\n",
        "    print(\"saksham dua\")"
      ]
    }
  ]
}