{
  "nbformat": 4,
  "nbformat_minor": 0,
  "metadata": {
    "colab": {
      "provenance": [],
      "authorship_tag": "ABX9TyMOBRrb55KYI1vhKYL62+3D",
      "include_colab_link": true
    },
    "kernelspec": {
      "name": "python3",
      "display_name": "Python 3"
    },
    "language_info": {
      "name": "python"
    }
  },
  "cells": [
    {
      "cell_type": "markdown",
      "metadata": {
        "id": "view-in-github",
        "colab_type": "text"
      },
      "source": [
        "<a href=\"https://colab.research.google.com/github/Sak1703/UCS712/blob/main/Assigmnet5.ipynb\" target=\"_parent\"><img src=\"https://colab.research.google.com/assets/colab-badge.svg\" alt=\"Open In Colab\"/></a>"
      ]
    },
    {
      "cell_type": "code",
      "execution_count": 1,
      "metadata": {
        "colab": {
          "base_uri": "https://localhost:8080/"
        },
        "id": "RhIkPtQSZ5zK",
        "outputId": "b7953ffb-627f-4e5d-b1bf-80b453a9b075"
      },
      "outputs": [
        {
          "output_type": "stream",
          "name": "stdout",
          "text": [
            "enter number a4\n",
            "enter number b7\n",
            "enter number c10\n",
            "10\n"
          ]
        }
      ],
      "source": [
        "a=int(input(\"enter number a\"))\n",
        "b=int(input(\"enter number b\"))\n",
        "c=int(input(\"enter number c\"))\n",
        "print(max(a,b,c))\n"
      ]
    },
    {
      "cell_type": "markdown",
      "source": [
        "Q2"
      ],
      "metadata": {
        "id": "m1meEeS2ande"
      }
    },
    {
      "cell_type": "code",
      "source": [
        "a=int(input(\"enter number\"))\n",
        "sum1=0\n",
        "for i in range(1,a+1):\n",
        "  if i%7==0 and i%9==0:\n",
        "    sum1=sum1+i\n",
        "print(sum1)\n"
      ],
      "metadata": {
        "colab": {
          "base_uri": "https://localhost:8080/"
        },
        "id": "GoAvXPvEapIk",
        "outputId": "43738a0f-24b2-4db3-b0f7-b751bd9fd4a7"
      },
      "execution_count": 4,
      "outputs": [
        {
          "output_type": "stream",
          "name": "stdout",
          "text": [
            "enter number100\n",
            "63\n"
          ]
        }
      ]
    },
    {
      "cell_type": "markdown",
      "source": [
        "Q3"
      ],
      "metadata": {
        "id": "8OUJoEUbbkUi"
      }
    },
    {
      "cell_type": "code",
      "source": [
        "from re import I\n",
        "def is_prime(n):\n",
        "  if n<=1:\n",
        "    return False\n",
        "  for i in range(2,int(n**0.5)+1):\n",
        "    if n%i==0 :\n",
        "      return False\n",
        "  return True\n",
        "a=int(input(\"enter number\"))\n",
        "sum1=0\n",
        "for i in range(1,a+1):\n",
        "  b=is_prime(i)\n",
        "  if b==True:\n",
        "    sum1 +=i\n",
        "print(sum1)\n",
        "\n",
        "\n"
      ],
      "metadata": {
        "colab": {
          "base_uri": "https://localhost:8080/"
        },
        "id": "XB5K0g4ubmqB",
        "outputId": "20283cdb-fac9-41c5-d202-07d285d31e13"
      },
      "execution_count": 6,
      "outputs": [
        {
          "output_type": "stream",
          "name": "stdout",
          "text": [
            "enter number100\n",
            "1060\n"
          ]
        }
      ]
    }
  ]
}