{
  "nbformat": 4,
  "nbformat_minor": 0,
  "metadata": {
    "colab": {
      "provenance": [],
      "authorship_tag": "ABX9TyNMkYaqpdw091tKWiXUDh4w",
      "include_colab_link": true
    },
    "kernelspec": {
      "name": "python3",
      "display_name": "Python 3"
    },
    "language_info": {
      "name": "python"
    }
  },
  "cells": [
    {
      "cell_type": "markdown",
      "metadata": {
        "id": "view-in-github",
        "colab_type": "text"
      },
      "source": [
        "<a href=\"https://colab.research.google.com/github/Sak1703/UCS420/blob/main/ASSIGNMNENT%202.ipynb\" target=\"_parent\"><img src=\"https://colab.research.google.com/assets/colab-badge.svg\" alt=\"Open In Colab\"/></a>"
      ]
    },
    {
      "cell_type": "markdown",
      "source": [
        "Assignment 2"
      ],
      "metadata": {
        "id": "4fGZiESMcr1m"
      }
    },
    {
      "cell_type": "markdown",
      "source": [
        "Q1"
      ],
      "metadata": {
        "id": "VPiBlgdSd71f"
      }
    },
    {
      "cell_type": "code",
      "source": [
        "L = [10, 20, 30, 40, 50, 60, 70, 80]\n",
        "L.append(200)\n",
        "print(\"add 200 and 300\")\n",
        "L.append(300)\n",
        "print(L)\n",
        "L.remove(10)\n",
        "L.remove(30)\n",
        "print(\"remove 10,30\",L)\n",
        "L.sort()\n",
        "print(\"assending order\",L)\n",
        "L.sort(reverse=True)\n",
        "print(\"descending order\",L)"
      ],
      "metadata": {
        "colab": {
          "base_uri": "https://localhost:8080/"
        },
        "id": "QopHUw-zdTkR",
        "outputId": "e98212ca-aec9-4d6b-eabf-48234655865a"
      },
      "execution_count": null,
      "outputs": [
        {
          "output_type": "stream",
          "name": "stdout",
          "text": [
            "add 200 and 300\n",
            "[10, 20, 30, 40, 50, 60, 70, 80, 200, 300]\n",
            "remove 10,30 [20, 40, 50, 60, 70, 80, 200, 300]\n",
            "assending order [20, 40, 50, 60, 70, 80, 200, 300]\n",
            "descending order [300, 200, 80, 70, 60, 50, 40, 20]\n"
          ]
        }
      ]
    },
    {
      "cell_type": "markdown",
      "source": [
        "Q2"
      ],
      "metadata": {
        "id": "9ceIa5oWeEM4"
      }
    },
    {
      "cell_type": "code",
      "source": [
        "scores = (75, 29.5, 69, 32, 89.5, 77, 58, 15)\n",
        "\n",
        "highest_score = max(scores)\n",
        "highest_score_index = scores.index(highest_score)\n",
        "print(\"Highest score:\", highest_score)\n",
        "print(\"Index of highest score:\", highest_score_index)\n",
        "\n",
        "lowest_score = min(scores)\n",
        "lowest_score_count = scores.count(lowest_score)\n",
        "print(\"Lowest score:\", lowest_score)\n",
        "print(\"Count of lowest score:\", lowest_score_count)\n",
        "\n",
        "reversed_scores = list(scores[::-1])\n",
        "print(\"Reversed tuple as list:\", reversed_scores)\n",
        "\n",
        "score_to_check = float(input(\"Enter a score to check: \"))\n",
        "if score_to_check in scores:\n",
        "    first_occurrence_index = scores.index(score_to_check)\n",
        "    print(f\"The score {score_to_check} is present at index {first_occurrence_index}.\")\n",
        "else:\n",
        "    print(f\"The score {score_to_check} is not present in the tuple.\")\n"
      ],
      "metadata": {
        "colab": {
          "base_uri": "https://localhost:8080/"
        },
        "id": "6OPp3sIdeFge",
        "outputId": "56f4fb6a-a9fb-43c6-b8a5-e0b6e90a78d1"
      },
      "execution_count": null,
      "outputs": [
        {
          "output_type": "stream",
          "name": "stdout",
          "text": [
            "Highest score: 92\n",
            "Index of highest score: 5\n",
            "Lowest score: 45\n",
            "Count of lowest score: 2\n",
            "Reversed tuple as list: [45, 58, 92, 89, 45.4, 76, 89.5, 45]\n",
            "Enter a score to check: 6\n",
            "The score 6.0 is not present in the tuple.\n"
          ]
        }
      ]
    },
    {
      "cell_type": "markdown",
      "source": [
        "Q3"
      ],
      "metadata": {
        "id": "qvFtUgJNB4Yz"
      }
    },
    {
      "cell_type": "code",
      "source": [
        "import random\n",
        "\n",
        "def is_prime(n):\n",
        "    if n <= 1:\n",
        "        return False\n",
        "    for i in range(2, int(n ** 0.5) + 1):\n",
        "        if n % i == 0:\n",
        "            return False\n",
        "    return True\n",
        "\n",
        "random_numbers = [random.randint(100, 900) for _ in range(100)]\n",
        "\n",
        "odd_numbers = [num for num in random_numbers if num % 2 != 0]\n",
        "even_numbers = [num for num in random_numbers if num % 2 == 0]\n",
        "prime_numbers = [num for num in random_numbers if is_prime(num)]\n",
        "\n",
        "print(\"Odd numbers:\", odd_numbers)\n",
        "print(\"Even numbers:\", even_numbers)\n",
        "print(\"Prime numbers:\", prime_numbers)\n",
        "print(\"Count of odd numbers:\", len(odd_numbers))\n",
        "print(\"Count of even numbers:\", len(even_numbers))\n",
        "print(\"Count of prime numbers:\", len(prime_numbers))"
      ],
      "metadata": {
        "colab": {
          "base_uri": "https://localhost:8080/"
        },
        "id": "_D9OZzb7B52h",
        "outputId": "c99cc700-ed45-4adf-e8d1-c893926fd88f"
      },
      "execution_count": null,
      "outputs": [
        {
          "output_type": "stream",
          "name": "stdout",
          "text": [
            "Odd numbers: [321, 123, 307, 843, 645, 709, 587, 189, 103, 371, 169, 209, 389, 263, 389, 213, 891, 361, 217, 717, 143, 577, 709, 287, 559, 825, 391, 687, 221, 407, 195, 221, 345, 365, 847, 465, 351, 569, 683, 647, 465, 541, 605, 645]\n",
            "Even numbers: [142, 850, 360, 844, 436, 386, 612, 238, 886, 114, 230, 770, 812, 220, 384, 144, 580, 680, 758, 366, 234, 764, 486, 362, 192, 188, 558, 186, 832, 316, 416, 722, 198, 226, 376, 822, 238, 848, 656, 490, 196, 234, 770, 678, 858, 392, 204, 660, 204, 458, 314, 866, 810, 806, 120, 836]\n",
            "Prime numbers: [307, 709, 587, 103, 389, 263, 389, 577, 709, 569, 683, 647, 541]\n",
            "Count of odd numbers: 44\n",
            "Count of even numbers: 56\n",
            "Count of prime numbers: 13\n"
          ]
        }
      ]
    },
    {
      "cell_type": "markdown",
      "source": [
        "Q4"
      ],
      "metadata": {
        "id": "X2SfS13dB-5r"
      }
    },
    {
      "cell_type": "code",
      "source": [
        "sample_dict = {\n",
        "    \"name\": \"Kelly\",\n",
        "    \"age\": 25,\n",
        "    \"salary\": 8000,\n",
        "    \"city\": \"New york\"\n",
        "}\n",
        "sample_dict[\"location\"] = sample_dict.pop(\"city\")\n",
        "print(sample_dict)\n"
      ],
      "metadata": {
        "colab": {
          "base_uri": "https://localhost:8080/"
        },
        "id": "I0A8WMl0CAyP",
        "outputId": "62571fed-3679-4fcf-af73-7fa3922c5db8"
      },
      "execution_count": null,
      "outputs": [
        {
          "output_type": "stream",
          "name": "stdout",
          "text": [
            "{'name': 'Kelly', 'age': 25, 'salary': 8000, 'location': 'New york'}\n"
          ]
        }
      ]
    }
  ]
}