{
  "nbformat": 4,
  "nbformat_minor": 0,
  "metadata": {
    "colab": {
      "provenance": [],
      "authorship_tag": "ABX9TyP3lJ8iqPyfLPTvjuISAD5N",
      "include_colab_link": true
    },
    "kernelspec": {
      "name": "python3",
      "display_name": "Python 3"
    },
    "language_info": {
      "name": "python"
    }
  },
  "cells": [
    {
      "cell_type": "markdown",
      "metadata": {
        "id": "view-in-github",
        "colab_type": "text"
      },
      "source": [
        "<a href=\"https://colab.research.google.com/github/Sak1703/UCS712/blob/main/ASSIGNMENT%206.ipynb\" target=\"_parent\"><img src=\"https://colab.research.google.com/assets/colab-badge.svg\" alt=\"Open In Colab\"/></a>"
      ]
    },
    {
      "cell_type": "code",
      "execution_count": null,
      "metadata": {
        "id": "Aijmck_LhB7T"
      },
      "outputs": [],
      "source": [
        "Q6 1"
      ]
    },
    {
      "cell_type": "code",
      "source": [
        "\n",
        "def is_odd(n):\n",
        "  if n%2!=0:\n",
        "    return True\n",
        "  return False\n",
        "a = int(input(\"Enter n: \"))\n",
        "sum1 = 0\n",
        "for i in range(1,a+1):\n",
        "  if is_odd(i)==True:\n",
        "    sum1 += i\n",
        "print(sum1)"
      ],
      "metadata": {
        "colab": {
          "base_uri": "https://localhost:8080/"
        },
        "id": "ye0LreIhhFQA",
        "outputId": "fca27016-233f-4060-d817-769ecf141272"
      },
      "execution_count": 1,
      "outputs": [
        {
          "output_type": "stream",
          "name": "stdout",
          "text": [
            "Enter n: 5\n",
            "9\n"
          ]
        }
      ]
    },
    {
      "cell_type": "markdown",
      "source": [],
      "metadata": {
        "id": "8HoR6jnZhDCw"
      }
    },
    {
      "cell_type": "markdown",
      "source": [
        "Q2"
      ],
      "metadata": {
        "id": "HoKvG1UWhRRj"
      }
    },
    {
      "cell_type": "code",
      "source": [
        "\n",
        "def IsPrime(n):\n",
        "\tfor i in range(2, n//2 + 1):\n",
        "\t\tif n%i==0:\n",
        "\t\t\treturn 0\n",
        "\treturn 1\n",
        "a = int(input(\"Enter n: \"))\n",
        "sum1 = 0\n",
        "for i in range(1,a+1):\n",
        "  if IsPrime(i)==1:\n",
        "    sum1 += i\n",
        "print(sum1-1)"
      ],
      "metadata": {
        "colab": {
          "base_uri": "https://localhost:8080/"
        },
        "id": "rgzm744IhTUj",
        "outputId": "f1dff55b-b26c-4789-ba18-2540dd27fcc1"
      },
      "execution_count": 2,
      "outputs": [
        {
          "output_type": "stream",
          "name": "stdout",
          "text": [
            "Enter n: 6\n",
            "10\n"
          ]
        }
      ]
    }
  ]
}