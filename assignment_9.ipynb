{
  "nbformat": 4,
  "nbformat_minor": 0,
  "metadata": {
    "colab": {
      "provenance": [],
      "authorship_tag": "ABX9TyNpgfr11e09DKKpW9dj5KtV",
      "include_colab_link": true
    },
    "kernelspec": {
      "name": "python3",
      "display_name": "Python 3"
    },
    "language_info": {
      "name": "python"
    }
  },
  "cells": [
    {
      "cell_type": "markdown",
      "metadata": {
        "id": "view-in-github",
        "colab_type": "text"
      },
      "source": [
        "<a href=\"https://colab.research.google.com/github/Sak1703/UCS420/blob/main/assignment_9.ipynb\" target=\"_parent\"><img src=\"https://colab.research.google.com/assets/colab-badge.svg\" alt=\"Open In Colab\"/></a>"
      ]
    },
    {
      "cell_type": "code",
      "source": [
        "import nltk\n",
        "nltk.download('punkt_tab')"
      ],
      "metadata": {
        "colab": {
          "base_uri": "https://localhost:8080/"
        },
        "id": "8Gf3LDQGA4FH",
        "outputId": "32aa2ce2-c657-49c6-ce15-090bd04b1980"
      },
      "execution_count": 3,
      "outputs": [
        {
          "output_type": "stream",
          "name": "stderr",
          "text": [
            "[nltk_data] Downloading package punkt_tab to /root/nltk_data...\n",
            "[nltk_data]   Unzipping tokenizers/punkt_tab.zip.\n"
          ]
        },
        {
          "output_type": "execute_result",
          "data": {
            "text/plain": [
              "True"
            ]
          },
          "metadata": {},
          "execution_count": 3
        }
      ]
    },
    {
      "cell_type": "code",
      "source": [
        "import nltk\n",
        "from nltk.stem import PorterStemmer, LancasterStemmer, WordNetLemmatizer\n",
        "\n",
        "nltk.download('wordnet')\n",
        "\n",
        "\n",
        "filtered_words = ['favorite', 'topic', 'technology', 'particularly', 'rapid', 'advancement', 'artificial', 'intelligence',\n",
        "                  'fascinates', 'machines', 'learn', 'adapt', 'transforming', 'industries', 'everyday', 'life',\n",
        "                  'healthcare', 'finance', 'impact', 'profound', 'enjoy', 'reading', 'new', 'innovations',\n",
        "                  'potential', 'solve', 'complex', 'problems', 'technology', 'just', 'gadgets', 'improving',\n",
        "                  'human', 'experiences']\n",
        "\n",
        "porter_stemmer = PorterStemmer()\n",
        "lancaster_stemmer = LancasterStemmer()\n",
        "wordnet_lemmatizer = WordNetLemmatizer()\n",
        "\n",
        "porter_stemmed = [porter_stemmer.stem(word) for word in filtered_words]\n",
        "lancaster_stemmed = [lancaster_stemmer.stem(word) for word in filtered_words]\n",
        "lemmatized = [wordnet_lemmatizer.lemmatize(word) for word in filtered_words]\n",
        "\n",
        "print(\"Porter Stemmed:\", porter_stemmed)\n",
        "print(\"Lancaster Stemmed:\", lancaster_stemmed)\n",
        "print(\"Lemmatized:\", lemmatized)"
      ],
      "metadata": {
        "colab": {
          "base_uri": "https://localhost:8080/"
        },
        "id": "W9l9t6tvBabE",
        "outputId": "7c852a99-36fe-46c3-84be-95b69b89ce89"
      },
      "execution_count": 6,
      "outputs": [
        {
          "output_type": "stream",
          "name": "stderr",
          "text": [
            "[nltk_data] Downloading package wordnet to /root/nltk_data...\n"
          ]
        },
        {
          "output_type": "stream",
          "name": "stdout",
          "text": [
            "Porter Stemmed: ['favorit', 'topic', 'technolog', 'particularli', 'rapid', 'advanc', 'artifici', 'intellig', 'fascin', 'machin', 'learn', 'adapt', 'transform', 'industri', 'everyday', 'life', 'healthcar', 'financ', 'impact', 'profound', 'enjoy', 'read', 'new', 'innov', 'potenti', 'solv', 'complex', 'problem', 'technolog', 'just', 'gadget', 'improv', 'human', 'experi']\n",
            "Lancaster Stemmed: ['favorit', 'top', 'technolog', 'particul', 'rapid', 'adv', 'art', 'intellig', 'fascin', 'machin', 'learn', 'adapt', 'transform', 'industry', 'everyday', 'lif', 'healthc', 'fin', 'impact', 'profound', 'enjoy', 'read', 'new', 'innov', 'pot', 'solv', 'complex', 'problem', 'technolog', 'just', 'gadget', 'improv', 'hum', 'expery']\n",
            "Lemmatized: ['favorite', 'topic', 'technology', 'particularly', 'rapid', 'advancement', 'artificial', 'intelligence', 'fascinates', 'machine', 'learn', 'adapt', 'transforming', 'industry', 'everyday', 'life', 'healthcare', 'finance', 'impact', 'profound', 'enjoy', 'reading', 'new', 'innovation', 'potential', 'solve', 'complex', 'problem', 'technology', 'just', 'gadget', 'improving', 'human', 'experience']\n"
          ]
        }
      ]
    },
    {
      "cell_type": "code",
      "source": [
        "import re\n",
        "\n",
        "text = \"I'm truly fascinated by space exploration and the endless mysteries of the universe. The idea of venturing beyond our planet to uncover the unknown is both thrilling and inspiring. From Mars missions to the search for extraterrestrial life, each discovery pushes the boundaries of human understanding. I love keeping up with the latest missions and scientific findings, imagining what the future of interstellar travel might look like. Space exploration isn’t just about rockets—it’s about expanding our horizons and redefining what’s possible.\"\n",
        "\n",
        "\n",
        "words_more_than_5 = re.findall(r'\\b\\w{6,}\\b', text)\n",
        "numbers = re.findall(r'\\d+', text)\n",
        "capitalized_words = re.findall(r'\\b[A-Z][a-z]*\\b', text)\n",
        "\n",
        "\n",
        "words_only_alphabets = re.findall(r'\\b[a-zA-Z]+\\b', text)\n",
        "words_starting_with_vowel = re.findall(r'\\b[aeiouAEIOU]\\w*', text)\n",
        "\n",
        "print(\"Words with more than 5 letters:\", words_more_than_5)\n",
        "print(\"Numbers:\", numbers)\n",
        "print(\"Capitalized words:\", capitalized_words)\n",
        "print(\"Words containing only alphabets:\", words_only_alphabets)\n",
        "print(\"Words starting with a vowel:\", words_starting_with_vowel)\n",
        ""
      ],
      "metadata": {
        "colab": {
          "base_uri": "https://localhost:8080/"
        },
        "id": "FxSGGklTBd-I",
        "outputId": "fe967aea-57c5-4ba1-a25d-749c3343babc"
      },
      "execution_count": 9,
      "outputs": [
        {
          "output_type": "stream",
          "name": "stdout",
          "text": [
            "Words with more than 5 letters: ['fascinated', 'exploration', 'endless', 'mysteries', 'universe', 'venturing', 'beyond', 'planet', 'uncover', 'unknown', 'thrilling', 'inspiring', 'missions', 'search', 'extraterrestrial', 'discovery', 'pushes', 'boundaries', 'understanding', 'keeping', 'latest', 'missions', 'scientific', 'findings', 'imagining', 'future', 'interstellar', 'travel', 'exploration', 'rockets', 'expanding', 'horizons', 'redefining', 'possible']\n",
            "Numbers: []\n",
            "Capitalized words: ['I', 'The', 'From', 'Mars', 'I', 'Space']\n",
            "Words containing only alphabets: ['I', 'm', 'truly', 'fascinated', 'by', 'space', 'exploration', 'and', 'the', 'endless', 'mysteries', 'of', 'the', 'universe', 'The', 'idea', 'of', 'venturing', 'beyond', 'our', 'planet', 'to', 'uncover', 'the', 'unknown', 'is', 'both', 'thrilling', 'and', 'inspiring', 'From', 'Mars', 'missions', 'to', 'the', 'search', 'for', 'extraterrestrial', 'life', 'each', 'discovery', 'pushes', 'the', 'boundaries', 'of', 'human', 'understanding', 'I', 'love', 'keeping', 'up', 'with', 'the', 'latest', 'missions', 'and', 'scientific', 'findings', 'imagining', 'what', 'the', 'future', 'of', 'interstellar', 'travel', 'might', 'look', 'like', 'Space', 'exploration', 'isn', 't', 'just', 'about', 'rockets', 'it', 's', 'about', 'expanding', 'our', 'horizons', 'and', 'redefining', 'what', 's', 'possible']\n",
            "Words starting with a vowel: ['I', 'exploration', 'and', 'endless', 'of', 'universe', 'idea', 'of', 'our', 'uncover', 'unknown', 'is', 'and', 'inspiring', 'extraterrestrial', 'each', 'of', 'understanding', 'I', 'up', 'and', 'imagining', 'of', 'interstellar', 'exploration', 'isn', 'about', 'it', 'about', 'expanding', 'our', 'and']\n"
          ]
        }
      ]
    },
    {
      "cell_type": "code",
      "source": [
        "import re\n",
        "\n",
        "text = (\"I'm truly fascinated by space exploration and the endless mysteries of the universe. \"\n",
        "        \"The idea of venturing beyond our planet to uncover the unknown is both thrilling and inspiring. \"\n",
        "        \"From Mars missions to the search for extraterrestrial life, each discovery pushes the boundaries \"\n",
        "        \"of human understanding. I love keeping up with the latest missions and scientific findings, \"\n",
        "        \"imagining what the future of interstellar travel might look like. Space exploration isn’t just about \"\n",
        "        \"rockets—it’s about expanding our horizons and redefining what’s possible. \"\n",
        "        \"Contact: example@example.com, visit https://space-news.example.com or call +1 8001234567.\")\n",
        "\n",
        "def clean_text(text):\n",
        "    text = re.sub(r'https?://[^\\s]+', '', text)\n",
        "    text = re.sub(r'\\+?\\d{1,2}\\s?\\d{10}|\\d{3}-\\d{3}-\\d{4}', '', text)\n",
        "    text = re.sub(r'\\S+@\\S+', '', text)\n",
        "    return text\n",
        "\n",
        "def custom_tokenize(text):\n",
        "    text = re.sub(r'[^\\w\\s\\']', '', text)\n",
        "    tokens = text.split()\n",
        "    return tokens\n",
        "\n",
        "cleaned_text = clean_text(text)\n",
        "tokens = custom_tokenize(cleaned_text)\n",
        "\n",
        "print(\"Custom Tokens:\", tokens)\n",
        "print(\"Cleaned Text:\", cleaned_text)\n"
      ],
      "metadata": {
        "colab": {
          "base_uri": "https://localhost:8080/"
        },
        "id": "8hjvUc8fB35i",
        "outputId": "df150e70-ce12-49d5-e015-471032bf43e6"
      },
      "execution_count": 14,
      "outputs": [
        {
          "output_type": "stream",
          "name": "stdout",
          "text": [
            "Custom Tokens: [\"I'm\", 'truly', 'fascinated', 'by', 'space', 'exploration', 'and', 'the', 'endless', 'mysteries', 'of', 'the', 'universe', 'The', 'idea', 'of', 'venturing', 'beyond', 'our', 'planet', 'to', 'uncover', 'the', 'unknown', 'is', 'both', 'thrilling', 'and', 'inspiring', 'From', 'Mars', 'missions', 'to', 'the', 'search', 'for', 'extraterrestrial', 'life', 'each', 'discovery', 'pushes', 'the', 'boundaries', 'of', 'human', 'understanding', 'I', 'love', 'keeping', 'up', 'with', 'the', 'latest', 'missions', 'and', 'scientific', 'findings', 'imagining', 'what', 'the', 'future', 'of', 'interstellar', 'travel', 'might', 'look', 'like', 'Space', 'exploration', 'isnt', 'just', 'about', 'rocketsits', 'about', 'expanding', 'our', 'horizons', 'and', 'redefining', 'whats', 'possible', 'Contact', 'visit', 'or', 'call']\n",
            "Cleaned Text: I'm truly fascinated by space exploration and the endless mysteries of the universe. The idea of venturing beyond our planet to uncover the unknown is both thrilling and inspiring. From Mars missions to the search for extraterrestrial life, each discovery pushes the boundaries of human understanding. I love keeping up with the latest missions and scientific findings, imagining what the future of interstellar travel might look like. Space exploration isn’t just about rockets—it’s about expanding our horizons and redefining what’s possible. Contact:  visit  or call .\n"
          ]
        }
      ]
    }
  ]
}