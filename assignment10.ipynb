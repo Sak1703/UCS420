{
  "nbformat": 4,
  "nbformat_minor": 0,
  "metadata": {
    "colab": {
      "provenance": [],
      "authorship_tag": "ABX9TyP/n4PKtyqDlPBed6kurXgD",
      "include_colab_link": true
    },
    "kernelspec": {
      "name": "python3",
      "display_name": "Python 3"
    },
    "language_info": {
      "name": "python"
    }
  },
  "cells": [
    {
      "cell_type": "markdown",
      "metadata": {
        "id": "view-in-github",
        "colab_type": "text"
      },
      "source": [
        "<a href=\"https://colab.research.google.com/github/Sak1703/UCS420/blob/main/assignment10.ipynb\" target=\"_parent\"><img src=\"https://colab.research.google.com/assets/colab-badge.svg\" alt=\"Open In Colab\"/></a>"
      ]
    },
    {
      "cell_type": "code",
      "execution_count": 1,
      "metadata": {
        "colab": {
          "base_uri": "https://localhost:8080/"
        },
        "id": "4TYLmDSKBhy3",
        "outputId": "7c3bcb08-a790-4084-8c09-f87a35a1e051"
      },
      "outputs": [
        {
          "output_type": "stream",
          "name": "stderr",
          "text": [
            "[nltk_data] Downloading package punkt_tab to /root/nltk_data...\n",
            "[nltk_data]   Unzipping tokenizers/punkt_tab.zip.\n",
            "[nltk_data] Downloading package stopwords to /root/nltk_data...\n",
            "[nltk_data]   Unzipping corpora/stopwords.zip.\n",
            "[nltk_data] Downloading package wordnet to /root/nltk_data...\n"
          ]
        },
        {
          "output_type": "execute_result",
          "data": {
            "text/plain": [
              "True"
            ]
          },
          "metadata": {},
          "execution_count": 1
        }
      ],
      "source": [
        "import nltk\n",
        "nltk.download('punkt_tab')\n",
        "nltk.download('stopwords')\n",
        "nltk.download('wordnet')"
      ]
    },
    {
      "cell_type": "code",
      "source": [
        "import re\n",
        "from nltk.tokenize import word_tokenize, sent_tokenize\n",
        "from nltk.corpus import stopwords\n",
        "from collections import Counter\n",
        "\n",
        "text = \"Physical exercise includes various structured movements aimed at improving strength, endurance, and overall health. It not only acts as a form of recreation but also enhances emotional stability, cognitive performance, and interpersonal relationships. Participating in regular workouts encourages self-discipline, determination, and collaboration, while opening doors to continuous self-improvement and communal engagement.\"\n",
        "text = text.lower()\n",
        "text = re.sub(r'[^\\w\\s]', '', text)\n",
        "sentences = sent_tokenize(text)\n",
        "words = word_tokenize(text)\n",
        "words_split = text.split()\n",
        "stop_words = set(stopwords.words('english'))\n",
        "filtered_words = [word for word in words if word not in stop_words]\n",
        "word_freq = Counter(filtered_words)\n"
      ],
      "metadata": {
        "id": "XuM0OT-ECD4E"
      },
      "execution_count": 3,
      "outputs": []
    },
    {
      "cell_type": "code",
      "source": [
        "import re\n",
        "\n",
        "text = \"Artistic expression allows individuals to convey emotions, challenge perspectives, and communicate complex ideas. Whether through painting, music, or dance, creativity fuels innovation and cultural evolution. I’m captivated by the power of art to evoke deep feelings and provoke meaningful conversations. From abstract masterpieces to intricate sculptures, each piece tells a unique story. Art isn’t just decoration—it’s a reflection of humanity and an exploration of identity.\"\n",
        "\n",
        "words_more_than_5 = re.findall(r'\\b\\w{6,}\\b', text)\n",
        "numbers = re.findall(r'\\d+', text)\n",
        "capitalized_words = re.findall(r'\\b[A-Z][a-z]*\\b', text)\n",
        "\n",
        "words_only_alphabets = re.findall(r'\\b[a-zA-Z]+\\b', text)\n",
        "words_starting_with_vowel = re.findall(r'\\b[aeiouAEIOU]\\w*', text)\n",
        "\n",
        "print(\"Words with more than 5 letters:\", words_more_than_5)\n",
        "print(\"Numbers:\", numbers)\n",
        "print(\"Capitalized words:\", capitalized_words)\n",
        "print(\"Words containing only alphabets:\", words_only_alphabets)\n",
        "print(\"Words starting with a vowel:\", words_starting_with_vowel)\n"
      ],
      "metadata": {
        "colab": {
          "base_uri": "https://localhost:8080/"
        },
        "id": "XL9jmLDxCTpI",
        "outputId": "da1afb11-d0a8-4e49-80c7-e1606911022b"
      },
      "execution_count": 4,
      "outputs": [
        {
          "output_type": "stream",
          "name": "stdout",
          "text": [
            "Words with more than 5 letters: ['Artistic', 'expression', 'allows', 'individuals', 'convey', 'emotions', 'challenge', 'perspectives', 'communicate', 'complex', 'Whether', 'through', 'painting', 'creativity', 'innovation', 'cultural', 'evolution', 'captivated', 'feelings', 'provoke', 'meaningful', 'conversations', 'abstract', 'masterpieces', 'intricate', 'sculptures', 'unique', 'decoration', 'reflection', 'humanity', 'exploration', 'identity']\n",
            "Numbers: []\n",
            "Capitalized words: ['Artistic', 'Whether', 'I', 'From', 'Art']\n",
            "Words containing only alphabets: ['Artistic', 'expression', 'allows', 'individuals', 'to', 'convey', 'emotions', 'challenge', 'perspectives', 'and', 'communicate', 'complex', 'ideas', 'Whether', 'through', 'painting', 'music', 'or', 'dance', 'creativity', 'fuels', 'innovation', 'and', 'cultural', 'evolution', 'I', 'm', 'captivated', 'by', 'the', 'power', 'of', 'art', 'to', 'evoke', 'deep', 'feelings', 'and', 'provoke', 'meaningful', 'conversations', 'From', 'abstract', 'masterpieces', 'to', 'intricate', 'sculptures', 'each', 'piece', 'tells', 'a', 'unique', 'story', 'Art', 'isn', 't', 'just', 'decoration', 'it', 's', 'a', 'reflection', 'of', 'humanity', 'and', 'an', 'exploration', 'of', 'identity']\n",
            "Words starting with a vowel: ['Artistic', 'expression', 'allows', 'individuals', 'emotions', 'and', 'ideas', 'or', 'innovation', 'and', 'evolution', 'I', 'of', 'art', 'evoke', 'and', 'abstract', 'intricate', 'each', 'a', 'unique', 'Art', 'isn', 'it', 'a', 'of', 'and', 'an', 'exploration', 'of', 'identity']\n"
          ]
        }
      ]
    },
    {
      "cell_type": "code",
      "source": [
        "import re\n",
        "\n",
        "text = (\"Environmental conservation is essential for maintaining the balance of natural ecosystems. \"\n",
        "        \"Efforts to reduce pollution, protect endangered species, and promote sustainability have never been more important. \"\n",
        "        \"From reforestation projects to ocean cleanups, these actions support the health of our planet. \"\n",
        "        \"I enjoy following updates from leading environmental groups and learning about innovative solutions. \"\n",
        "        \"Preserving the Earth isn’t just a responsibility—it’s a necessity for future generations. \"\n",
        "        \"Contact: ecoaction@greenfuture.org, visit https://eco-news.greenfuture.org or call +44 7123456789.\")\n",
        "\n",
        "def clean_text(text):\n",
        "    text = re.sub(r'https?://[^\\s]+', '', text)\n",
        "    text = re.sub(r'\\+?\\d{1,2}\\s?\\d{10}|\\d{3}-\\d{3}-\\d{4}', '', text)\n",
        "    text = re.sub(r'\\S+@\\S+', '', text)\n",
        "    return text\n",
        "\n",
        "def custom_tokenize(text):\n",
        "    text = re.sub(r'[^\\w\\s\\']', '', text)\n",
        "    tokens = text.split()\n",
        "    return tokens\n",
        "\n",
        "cleaned_text = clean_text(text)\n",
        "tokens = custom_tokenize(cleaned_text)\n",
        "\n",
        "print(\"Custom Tokens:\", tokens)\n",
        "print(\"Cleaned Text:\", cleaned_text)\n"
      ],
      "metadata": {
        "colab": {
          "base_uri": "https://localhost:8080/"
        },
        "id": "13otMf9SCfyu",
        "outputId": "ad9a30d6-342a-4531-af70-ad219de690f5"
      },
      "execution_count": 5,
      "outputs": [
        {
          "output_type": "stream",
          "name": "stdout",
          "text": [
            "Custom Tokens: ['Environmental', 'conservation', 'is', 'essential', 'for', 'maintaining', 'the', 'balance', 'of', 'natural', 'ecosystems', 'Efforts', 'to', 'reduce', 'pollution', 'protect', 'endangered', 'species', 'and', 'promote', 'sustainability', 'have', 'never', 'been', 'more', 'important', 'From', 'reforestation', 'projects', 'to', 'ocean', 'cleanups', 'these', 'actions', 'support', 'the', 'health', 'of', 'our', 'planet', 'I', 'enjoy', 'following', 'updates', 'from', 'leading', 'environmental', 'groups', 'and', 'learning', 'about', 'innovative', 'solutions', 'Preserving', 'the', 'Earth', 'isnt', 'just', 'a', 'responsibilityits', 'a', 'necessity', 'for', 'future', 'generations', 'Contact', 'visit', 'or', 'call']\n",
            "Cleaned Text: Environmental conservation is essential for maintaining the balance of natural ecosystems. Efforts to reduce pollution, protect endangered species, and promote sustainability have never been more important. From reforestation projects to ocean cleanups, these actions support the health of our planet. I enjoy following updates from leading environmental groups and learning about innovative solutions. Preserving the Earth isn’t just a responsibility—it’s a necessity for future generations. Contact:  visit  or call .\n"
          ]
        }
      ]
    }
  ]
}